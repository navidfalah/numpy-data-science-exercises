{
  "nbformat": 4,
  "nbformat_minor": 0,
  "metadata": {
    "colab": {
      "provenance": []
    },
    "kernelspec": {
      "name": "python3",
      "display_name": "Python 3"
    },
    "language_info": {
      "name": "python"
    }
  },
  "cells": [
    {
      "cell_type": "code",
      "execution_count": null,
      "metadata": {
        "id": "NuxQHsduHl3M"
      },
      "outputs": [],
      "source": [
        "import numpy as np"
      ]
    },
    {
      "cell_type": "code",
      "source": [
        "np.__version__"
      ],
      "metadata": {
        "id": "x79V45MnIF-b",
        "colab": {
          "base_uri": "https://localhost:8080/",
          "height": 55
        },
        "outputId": "160ec6a9-9029-483c-95e5-127955b10a9c"
      },
      "execution_count": null,
      "outputs": [
        {
          "output_type": "execute_result",
          "data": {
            "text/plain": [
              "'1.26.4'"
            ],
            "application/vnd.google.colaboratory.intrinsic+json": {
              "type": "string"
            }
          },
          "metadata": {},
          "execution_count": 2
        }
      ]
    },
    {
      "cell_type": "code",
      "source": [
        "z = 34"
      ],
      "metadata": {
        "id": "Dm5ckGoK08yW"
      },
      "execution_count": null,
      "outputs": []
    },
    {
      "cell_type": "code",
      "source": [
        "L = list(range(10))"
      ],
      "metadata": {
        "id": "kl2mFqsk4IMz"
      },
      "execution_count": null,
      "outputs": []
    },
    {
      "cell_type": "code",
      "source": [
        "L"
      ],
      "metadata": {
        "colab": {
          "base_uri": "https://localhost:8080/"
        },
        "id": "tjZlhs334LLB",
        "outputId": "ab63f2cd-7b62-49a9-ce68-0107200358f5"
      },
      "execution_count": null,
      "outputs": [
        {
          "output_type": "execute_result",
          "data": {
            "text/plain": [
              "[0, 1, 2, 3, 4, 5, 6, 7, 8, 9]"
            ]
          },
          "metadata": {},
          "execution_count": 5
        }
      ]
    },
    {
      "cell_type": "code",
      "source": [
        "np.array([1, 4, 2, 5, 3])"
      ],
      "metadata": {
        "colab": {
          "base_uri": "https://localhost:8080/"
        },
        "id": "tw5xdnhm_vLC",
        "outputId": "9fba643f-4225-43ce-f991-4dcb11add7b1"
      },
      "execution_count": null,
      "outputs": [
        {
          "output_type": "execute_result",
          "data": {
            "text/plain": [
              "array([1, 4, 2, 5, 3])"
            ]
          },
          "metadata": {},
          "execution_count": 6
        }
      ]
    },
    {
      "cell_type": "code",
      "source": [
        "np.array([3.14, 4, 2, 3])"
      ],
      "metadata": {
        "colab": {
          "base_uri": "https://localhost:8080/"
        },
        "id": "9L_eUSaTAwq2",
        "outputId": "09fc9729-de29-4b82-d2d5-cbe86b5c1307"
      },
      "execution_count": null,
      "outputs": [
        {
          "output_type": "execute_result",
          "data": {
            "text/plain": [
              "array([3.14, 4.  , 2.  , 3.  ])"
            ]
          },
          "metadata": {},
          "execution_count": 7
        }
      ]
    },
    {
      "cell_type": "code",
      "source": [
        "np.linspace(0, 1, 5)"
      ],
      "metadata": {
        "colab": {
          "base_uri": "https://localhost:8080/"
        },
        "id": "9wEOm2phAyaU",
        "outputId": "53722b73-c37a-4507-c4f6-a34a398c7cf3"
      },
      "execution_count": null,
      "outputs": [
        {
          "output_type": "execute_result",
          "data": {
            "text/plain": [
              "array([0.  , 0.25, 0.5 , 0.75, 1.  ])"
            ]
          },
          "metadata": {},
          "execution_count": 8
        }
      ]
    },
    {
      "cell_type": "code",
      "source": [
        "np.arange(0, 1, 0.25)"
      ],
      "metadata": {
        "colab": {
          "base_uri": "https://localhost:8080/"
        },
        "id": "4DfUi3-LE39-",
        "outputId": "f9e605cc-e4bf-485f-cede-c48cde456b08"
      },
      "execution_count": null,
      "outputs": [
        {
          "output_type": "execute_result",
          "data": {
            "text/plain": [
              "array([0.  , 0.25, 0.5 , 0.75])"
            ]
          },
          "metadata": {},
          "execution_count": 9
        }
      ]
    },
    {
      "cell_type": "code",
      "source": [
        "np.eye(4)"
      ],
      "metadata": {
        "colab": {
          "base_uri": "https://localhost:8080/"
        },
        "id": "gViRyxW5E-bc",
        "outputId": "470b2923-3b0d-4dfe-a1bc-0405ceaaa18a"
      },
      "execution_count": null,
      "outputs": [
        {
          "output_type": "execute_result",
          "data": {
            "text/plain": [
              "array([[1., 0., 0., 0.],\n",
              "       [0., 1., 0., 0.],\n",
              "       [0., 0., 1., 0.],\n",
              "       [0., 0., 0., 1.]])"
            ]
          },
          "metadata": {},
          "execution_count": 10
        }
      ]
    },
    {
      "cell_type": "code",
      "source": [
        "np.zeros(10, dtype='int16')"
      ],
      "metadata": {
        "colab": {
          "base_uri": "https://localhost:8080/"
        },
        "id": "ur3i30u4ZZiD",
        "outputId": "8522b5fa-22ed-4fa3-b589-590b5d351e3c"
      },
      "execution_count": null,
      "outputs": [
        {
          "output_type": "execute_result",
          "data": {
            "text/plain": [
              "array([0, 0, 0, 0, 0, 0, 0, 0, 0, 0], dtype=int16)"
            ]
          },
          "metadata": {},
          "execution_count": 11
        }
      ]
    },
    {
      "cell_type": "code",
      "source": [
        "import numpy as np\n",
        "\n",
        "rng = np.random.default_rng(seed=1701)"
      ],
      "metadata": {
        "id": "OvkOjWM-Zoci"
      },
      "execution_count": null,
      "outputs": []
    },
    {
      "cell_type": "code",
      "source": [
        "x1 = rng.integers(10, size=6)\n",
        "x2 = rng.integers(10, size=(3, 4))\n",
        "x3 = rng.integers(10, size=(3, 4, 5))"
      ],
      "metadata": {
        "id": "Cx7rpqQP2-JU"
      },
      "execution_count": null,
      "outputs": []
    },
    {
      "cell_type": "code",
      "source": [
        "print(\"x3 ndim: \", x3.ndim)\n",
        "print(\"x3 shape:\", x3.shape)\n",
        "print(\"x3 size: \", x3.size)\n",
        "print(\"dtype: \", x3.dtype)"
      ],
      "metadata": {
        "colab": {
          "base_uri": "https://localhost:8080/"
        },
        "id": "pQp58yg83GnJ",
        "outputId": "095411fd-099e-44ff-cc45-41476b24d017"
      },
      "execution_count": null,
      "outputs": [
        {
          "output_type": "stream",
          "name": "stdout",
          "text": [
            "x3 ndim:  3\n",
            "x3 shape: (3, 4, 5)\n",
            "x3 size:  60\n",
            "dtype:  int64\n"
          ]
        }
      ]
    },
    {
      "cell_type": "code",
      "source": [
        "x1"
      ],
      "metadata": {
        "colab": {
          "base_uri": "https://localhost:8080/"
        },
        "id": "zOIkymrS3nIp",
        "outputId": "305d0a59-588d-4112-f479-c0a80d23aa28"
      },
      "execution_count": null,
      "outputs": [
        {
          "output_type": "execute_result",
          "data": {
            "text/plain": [
              "array([9, 4, 0, 3, 8, 6])"
            ]
          },
          "metadata": {},
          "execution_count": 15
        }
      ]
    },
    {
      "cell_type": "code",
      "source": [
        "x1[0]"
      ],
      "metadata": {
        "colab": {
          "base_uri": "https://localhost:8080/"
        },
        "id": "8lUobM7R3ud8",
        "outputId": "669a0425-b5d7-443c-d072-63046106fe32"
      },
      "execution_count": null,
      "outputs": [
        {
          "output_type": "execute_result",
          "data": {
            "text/plain": [
              "9"
            ]
          },
          "metadata": {},
          "execution_count": 16
        }
      ]
    },
    {
      "cell_type": "code",
      "source": [
        "x2"
      ],
      "metadata": {
        "colab": {
          "base_uri": "https://localhost:8080/"
        },
        "id": "mtmU7YRO3vpb",
        "outputId": "377df36e-1cd2-494e-a403-fe1f86771700"
      },
      "execution_count": null,
      "outputs": [
        {
          "output_type": "execute_result",
          "data": {
            "text/plain": [
              "array([[3, 1, 3, 7],\n",
              "       [4, 0, 2, 3],\n",
              "       [0, 0, 6, 9]])"
            ]
          },
          "metadata": {},
          "execution_count": 17
        }
      ]
    },
    {
      "cell_type": "code",
      "source": [
        "x2[2]"
      ],
      "metadata": {
        "colab": {
          "base_uri": "https://localhost:8080/"
        },
        "id": "5MyuvNyq39D0",
        "outputId": "9fb2dc9c-6cf2-40ae-97e1-0e8f4d1274f1"
      },
      "execution_count": null,
      "outputs": [
        {
          "output_type": "execute_result",
          "data": {
            "text/plain": [
              "array([0, 0, 6, 9])"
            ]
          },
          "metadata": {},
          "execution_count": 18
        }
      ]
    },
    {
      "cell_type": "code",
      "source": [
        "x2[2][2]"
      ],
      "metadata": {
        "colab": {
          "base_uri": "https://localhost:8080/"
        },
        "id": "OvpzK4143--0",
        "outputId": "4087f1e0-1804-47ab-bdbb-2412eb6beea3"
      },
      "execution_count": null,
      "outputs": [
        {
          "output_type": "execute_result",
          "data": {
            "text/plain": [
              "6"
            ]
          },
          "metadata": {},
          "execution_count": 19
        }
      ]
    },
    {
      "cell_type": "code",
      "source": [
        "x2[2, 2]"
      ],
      "metadata": {
        "colab": {
          "base_uri": "https://localhost:8080/"
        },
        "id": "e-8h_s6G4BXA",
        "outputId": "52890173-668a-43fc-fc39-60fccfd772fd"
      },
      "execution_count": null,
      "outputs": [
        {
          "output_type": "execute_result",
          "data": {
            "text/plain": [
              "6"
            ]
          },
          "metadata": {},
          "execution_count": 20
        }
      ]
    },
    {
      "cell_type": "code",
      "source": [
        "x1"
      ],
      "metadata": {
        "colab": {
          "base_uri": "https://localhost:8080/"
        },
        "id": "Pr4nBRcO4DOH",
        "outputId": "2ac6f793-0d79-487b-c13f-bf045c324d71"
      },
      "execution_count": null,
      "outputs": [
        {
          "output_type": "execute_result",
          "data": {
            "text/plain": [
              "array([9, 4, 0, 3, 8, 6])"
            ]
          },
          "metadata": {},
          "execution_count": 21
        }
      ]
    },
    {
      "cell_type": "code",
      "source": [
        "x1[:3]"
      ],
      "metadata": {
        "colab": {
          "base_uri": "https://localhost:8080/"
        },
        "id": "u4HtwjKr5JWP",
        "outputId": "a4e98e6d-3267-4f6b-ecce-65e4a7c91c25"
      },
      "execution_count": null,
      "outputs": [
        {
          "output_type": "execute_result",
          "data": {
            "text/plain": [
              "array([9, 4, 0])"
            ]
          },
          "metadata": {},
          "execution_count": 22
        }
      ]
    },
    {
      "cell_type": "code",
      "source": [
        "x1[3:]"
      ],
      "metadata": {
        "colab": {
          "base_uri": "https://localhost:8080/"
        },
        "id": "MG9vK7Cu5Wfj",
        "outputId": "eccb71d2-a25a-4153-a9d0-d08a18368a58"
      },
      "execution_count": null,
      "outputs": [
        {
          "output_type": "execute_result",
          "data": {
            "text/plain": [
              "array([3, 8, 6])"
            ]
          },
          "metadata": {},
          "execution_count": 23
        }
      ]
    },
    {
      "cell_type": "code",
      "source": [
        "x1[::2]"
      ],
      "metadata": {
        "colab": {
          "base_uri": "https://localhost:8080/"
        },
        "id": "kwl-UQ5W5Z_8",
        "outputId": "ba30cdeb-5cb9-44c4-b74e-ba1c3d6fca74"
      },
      "execution_count": null,
      "outputs": [
        {
          "output_type": "execute_result",
          "data": {
            "text/plain": [
              "array([9, 0, 8])"
            ]
          },
          "metadata": {},
          "execution_count": 24
        }
      ]
    },
    {
      "cell_type": "code",
      "source": [
        "x1[1::2]"
      ],
      "metadata": {
        "colab": {
          "base_uri": "https://localhost:8080/"
        },
        "id": "YyBUIszB5nPH",
        "outputId": "fbc9766e-cf17-4f67-9fa7-f90aa43d4a05"
      },
      "execution_count": null,
      "outputs": [
        {
          "output_type": "execute_result",
          "data": {
            "text/plain": [
              "array([4, 3, 6])"
            ]
          },
          "metadata": {},
          "execution_count": 25
        }
      ]
    },
    {
      "cell_type": "code",
      "source": [
        "x1[2::2]"
      ],
      "metadata": {
        "colab": {
          "base_uri": "https://localhost:8080/"
        },
        "id": "jB_WlRO05ywz",
        "outputId": "e260131b-0ede-4456-cae5-bffe5602a7b2"
      },
      "execution_count": null,
      "outputs": [
        {
          "output_type": "execute_result",
          "data": {
            "text/plain": [
              "array([0, 8])"
            ]
          },
          "metadata": {},
          "execution_count": 26
        }
      ]
    },
    {
      "cell_type": "code",
      "source": [
        "x1[::-1]"
      ],
      "metadata": {
        "colab": {
          "base_uri": "https://localhost:8080/"
        },
        "id": "IqKXxj0Y51bd",
        "outputId": "935f634e-19e9-4c0c-e410-c43e34cf2fd8"
      },
      "execution_count": null,
      "outputs": [
        {
          "output_type": "execute_result",
          "data": {
            "text/plain": [
              "array([6, 8, 3, 0, 4, 9])"
            ]
          },
          "metadata": {},
          "execution_count": 27
        }
      ]
    },
    {
      "cell_type": "code",
      "source": [
        "x1[4::-2]"
      ],
      "metadata": {
        "colab": {
          "base_uri": "https://localhost:8080/"
        },
        "id": "Q5z_gUSn6au1",
        "outputId": "54ea8a4e-2af3-467f-cdcc-47ec48659ed2"
      },
      "execution_count": null,
      "outputs": [
        {
          "output_type": "execute_result",
          "data": {
            "text/plain": [
              "array([8, 0, 9])"
            ]
          },
          "metadata": {},
          "execution_count": 28
        }
      ]
    },
    {
      "cell_type": "code",
      "source": [
        "x_list_python = [4, 5, 2, 5, 3, 8]\n",
        "x_list_numpy = np.array(x_list_python)"
      ],
      "metadata": {
        "id": "3Q4nhy7s6cQ4"
      },
      "execution_count": null,
      "outputs": []
    },
    {
      "cell_type": "code",
      "source": [
        "slice_list_numpy = x_list_numpy[2:4]\n",
        "slice_list_numpy"
      ],
      "metadata": {
        "colab": {
          "base_uri": "https://localhost:8080/"
        },
        "id": "nhEtGRDXA7kF",
        "outputId": "23efb527-8428-444e-bc1e-19a422317900"
      },
      "execution_count": null,
      "outputs": [
        {
          "output_type": "execute_result",
          "data": {
            "text/plain": [
              "array([2, 5])"
            ]
          },
          "metadata": {},
          "execution_count": 30
        }
      ]
    },
    {
      "cell_type": "code",
      "source": [
        "slice_list_numpy[0] = 0\n",
        "slice_list_numpy"
      ],
      "metadata": {
        "colab": {
          "base_uri": "https://localhost:8080/"
        },
        "id": "Ip7k2dMgA-Fj",
        "outputId": "a9b01567-c9e7-49da-c435-b4a763835ec9"
      },
      "execution_count": null,
      "outputs": [
        {
          "output_type": "execute_result",
          "data": {
            "text/plain": [
              "array([0, 5])"
            ]
          },
          "metadata": {},
          "execution_count": 31
        }
      ]
    },
    {
      "cell_type": "code",
      "source": [
        "print(x_list_numpy)"
      ],
      "metadata": {
        "colab": {
          "base_uri": "https://localhost:8080/"
        },
        "id": "7hm2D57jA_i1",
        "outputId": "4d037c65-30c4-487d-9a98-e02e06a95693"
      },
      "execution_count": null,
      "outputs": [
        {
          "output_type": "stream",
          "name": "stdout",
          "text": [
            "[4 5 0 5 3 8]\n"
          ]
        }
      ]
    },
    {
      "cell_type": "code",
      "source": [
        "x2_sub = x2[:2, :2]\n",
        "print(x2_sub)"
      ],
      "metadata": {
        "colab": {
          "base_uri": "https://localhost:8080/"
        },
        "id": "idbO8b7RBAjs",
        "outputId": "97cb0160-b7e7-4cfc-f97a-28d075f04c26"
      },
      "execution_count": null,
      "outputs": [
        {
          "output_type": "stream",
          "name": "stdout",
          "text": [
            "[[3 1]\n",
            " [4 0]]\n"
          ]
        }
      ]
    },
    {
      "cell_type": "code",
      "source": [
        "x2_sub[0, 0] = 99\n",
        "print(x2_sub)"
      ],
      "metadata": {
        "colab": {
          "base_uri": "https://localhost:8080/"
        },
        "id": "HdMUY2VMBmRs",
        "outputId": "cb8a8f3a-5a98-4cee-b0da-9ea48c4c7cdd"
      },
      "execution_count": null,
      "outputs": [
        {
          "output_type": "stream",
          "name": "stdout",
          "text": [
            "[[99  1]\n",
            " [ 4  0]]\n"
          ]
        }
      ]
    },
    {
      "cell_type": "code",
      "source": [
        "print(x2)"
      ],
      "metadata": {
        "colab": {
          "base_uri": "https://localhost:8080/"
        },
        "id": "C2Y5OgIOBov_",
        "outputId": "b1d5752d-93e8-4edb-e0a4-974d8d078c7c"
      },
      "execution_count": null,
      "outputs": [
        {
          "output_type": "stream",
          "name": "stdout",
          "text": [
            "[[99  1  3  7]\n",
            " [ 4  0  2  3]\n",
            " [ 0  0  6  9]]\n"
          ]
        }
      ]
    },
    {
      "cell_type": "code",
      "source": [
        "x2_sub_copy = x2[:2, :2].copy()"
      ],
      "metadata": {
        "id": "CBkPfMgWBqTu"
      },
      "execution_count": null,
      "outputs": []
    },
    {
      "cell_type": "code",
      "source": [
        "x2_sub_copy"
      ],
      "metadata": {
        "colab": {
          "base_uri": "https://localhost:8080/"
        },
        "id": "aARvHbLgEhKH",
        "outputId": "a817e8e1-08b2-4146-8ad0-62cd132b3818"
      },
      "execution_count": null,
      "outputs": [
        {
          "output_type": "execute_result",
          "data": {
            "text/plain": [
              "array([[99,  1],\n",
              "       [ 4,  0]])"
            ]
          },
          "metadata": {},
          "execution_count": 37
        }
      ]
    },
    {
      "cell_type": "code",
      "source": [
        "grid = np.arange(0, 9).reshape(3, 3)"
      ],
      "metadata": {
        "id": "G924dNJqEh66"
      },
      "execution_count": null,
      "outputs": []
    },
    {
      "cell_type": "code",
      "source": [
        "grid"
      ],
      "metadata": {
        "colab": {
          "base_uri": "https://localhost:8080/"
        },
        "id": "A5nuSexCGLWa",
        "outputId": "1e3f92db-e008-4dc1-824a-522cd7273e95"
      },
      "execution_count": null,
      "outputs": [
        {
          "output_type": "execute_result",
          "data": {
            "text/plain": [
              "array([[0, 1, 2],\n",
              "       [3, 4, 5],\n",
              "       [6, 7, 8]])"
            ]
          },
          "metadata": {},
          "execution_count": 39
        }
      ]
    },
    {
      "cell_type": "code",
      "source": [
        "x = np.array([1, 2, 3])\n",
        "y = np.array([3, 2, 1])\n",
        "np.concatenate([x, y])"
      ],
      "metadata": {
        "colab": {
          "base_uri": "https://localhost:8080/"
        },
        "id": "nVuGqzilGMNG",
        "outputId": "7c3a76bd-d8f1-43c7-bb64-ef261936cfec"
      },
      "execution_count": null,
      "outputs": [
        {
          "output_type": "execute_result",
          "data": {
            "text/plain": [
              "array([1, 2, 3, 3, 2, 1])"
            ]
          },
          "metadata": {},
          "execution_count": 40
        }
      ]
    },
    {
      "cell_type": "code",
      "source": [
        "z = np.array([99, 99, 99])\n",
        "print(np.concatenate([x, y, z]))"
      ],
      "metadata": {
        "colab": {
          "base_uri": "https://localhost:8080/"
        },
        "id": "y2qxKKW2HM-m",
        "outputId": "9853cf6c-151f-4edc-e35b-1a4df5b37308"
      },
      "execution_count": null,
      "outputs": [
        {
          "output_type": "stream",
          "name": "stdout",
          "text": [
            "[ 1  2  3  3  2  1 99 99 99]\n"
          ]
        }
      ]
    },
    {
      "cell_type": "code",
      "source": [
        "x = [1, 2, 3, 99, 99, 3, 2, 1]\n",
        "x1, x2, x3 = np.split(x, [3, 5])\n",
        "print(x1, x2, x3)"
      ],
      "metadata": {
        "colab": {
          "base_uri": "https://localhost:8080/"
        },
        "id": "JduS_40QHWc0",
        "outputId": "e05b5006-add7-47a2-ef8e-026cb3ecf326"
      },
      "execution_count": null,
      "outputs": [
        {
          "output_type": "stream",
          "name": "stdout",
          "text": [
            "[1 2 3] [99 99] [3 2 1]\n"
          ]
        }
      ]
    },
    {
      "cell_type": "code",
      "source": [
        "import numpy as np\n",
        "rng = np.random.default_rng(seed=1701)\n",
        "\n",
        "def compute_reciprocals(values):\n",
        "  output = np.empty(len(values))\n",
        "  for i in range(len(values)):\n",
        "    output[i] = 1.0 / values[i]\n",
        "  return output\n",
        "\n",
        "values = rng.integers(1, 10, size=5)\n",
        "compute_reciprocals(values)"
      ],
      "metadata": {
        "colab": {
          "base_uri": "https://localhost:8080/"
        },
        "id": "Go09gPY7QX6v",
        "outputId": "b24633fb-b579-42e7-9f6f-af4996ca89cc"
      },
      "execution_count": null,
      "outputs": [
        {
          "output_type": "execute_result",
          "data": {
            "text/plain": [
              "array([0.11111111, 0.25      , 1.        , 0.33333333, 0.125     ])"
            ]
          },
          "metadata": {},
          "execution_count": 43
        }
      ]
    },
    {
      "cell_type": "code",
      "source": [
        "big_array = rng.integers(1, 100, size=1000000)\n",
        "%timeit compute_reciprocals(big_array)"
      ],
      "metadata": {
        "colab": {
          "base_uri": "https://localhost:8080/"
        },
        "id": "6X1ejO1hXkLy",
        "outputId": "ef4e6b28-18d4-4627-ecdb-c4257c3826bc"
      },
      "execution_count": null,
      "outputs": [
        {
          "output_type": "stream",
          "name": "stdout",
          "text": [
            "The slowest run took 4.04 times longer than the fastest. This could mean that an intermediate result is being cached.\n",
            "3.56 s ± 2.09 s per loop (mean ± std. dev. of 7 runs, 1 loop each)\n"
          ]
        }
      ]
    },
    {
      "cell_type": "code",
      "source": [
        "print(compute_reciprocals(values))\n",
        "print(1.0 / values)"
      ],
      "metadata": {
        "colab": {
          "base_uri": "https://localhost:8080/"
        },
        "id": "-iFc5uMMXvPh",
        "outputId": "d68aa17d-f4ea-45d2-a337-bf39f4302411"
      },
      "execution_count": null,
      "outputs": [
        {
          "output_type": "stream",
          "name": "stdout",
          "text": [
            "[0.11111111 0.25       1.         0.33333333 0.125     ]\n",
            "[0.11111111 0.25       1.         0.33333333 0.125     ]\n"
          ]
        }
      ]
    },
    {
      "cell_type": "code",
      "source": [
        "%timeit (1.0 / big_array)"
      ],
      "metadata": {
        "id": "GmZFRo7Sb4Xa",
        "colab": {
          "base_uri": "https://localhost:8080/"
        },
        "outputId": "260f30a5-e9f0-4a7f-f05c-ffda183cae03"
      },
      "execution_count": null,
      "outputs": [
        {
          "output_type": "stream",
          "name": "stdout",
          "text": [
            "1.99 ms ± 239 µs per loop (mean ± std. dev. of 7 runs, 1000 loops each)\n"
          ]
        }
      ]
    },
    {
      "cell_type": "code",
      "source": [
        "np.arange(5) / np.arange(1, 6)"
      ],
      "metadata": {
        "colab": {
          "base_uri": "https://localhost:8080/"
        },
        "id": "m8ZPomlDcBFh",
        "outputId": "f4642127-eee8-46cd-b155-09d878686477"
      },
      "execution_count": null,
      "outputs": [
        {
          "output_type": "execute_result",
          "data": {
            "text/plain": [
              "array([0.        , 0.5       , 0.66666667, 0.75      , 0.8       ])"
            ]
          },
          "metadata": {},
          "execution_count": 47
        }
      ]
    },
    {
      "cell_type": "code",
      "source": [
        "np.arange(5)"
      ],
      "metadata": {
        "colab": {
          "base_uri": "https://localhost:8080/"
        },
        "id": "UfcY3Vo5cbw7",
        "outputId": "5aa9b984-21a8-4da8-9c9e-f5d479e55ba6"
      },
      "execution_count": null,
      "outputs": [
        {
          "output_type": "execute_result",
          "data": {
            "text/plain": [
              "array([0, 1, 2, 3, 4])"
            ]
          },
          "metadata": {},
          "execution_count": 48
        }
      ]
    },
    {
      "cell_type": "code",
      "source": [
        "theta = np.linspace(0, np.pi, 3)"
      ],
      "metadata": {
        "id": "7sup9p3wceLO"
      },
      "execution_count": null,
      "outputs": []
    },
    {
      "cell_type": "code",
      "source": [
        "theta"
      ],
      "metadata": {
        "id": "lckY37W6hign",
        "colab": {
          "base_uri": "https://localhost:8080/"
        },
        "outputId": "234fc778-d877-4dfc-9283-3df22b113a33"
      },
      "execution_count": null,
      "outputs": [
        {
          "output_type": "execute_result",
          "data": {
            "text/plain": [
              "array([0.        , 1.57079633, 3.14159265])"
            ]
          },
          "metadata": {},
          "execution_count": 50
        }
      ]
    },
    {
      "cell_type": "code",
      "source": [
        "print(\"theta = \", theta)\n",
        "print(\"sin(theta) = \", np.sin(theta))\n",
        "print(\"cos(theta) = \", np.cos(theta))\n",
        "print(\"tan(theta) = \", np.tan(theta))"
      ],
      "metadata": {
        "colab": {
          "base_uri": "https://localhost:8080/"
        },
        "id": "n92iJYWghnKe",
        "outputId": "c3bb6fac-fd1b-4817-b73c-643ba43cd645"
      },
      "execution_count": null,
      "outputs": [
        {
          "output_type": "stream",
          "name": "stdout",
          "text": [
            "theta =  [0.         1.57079633 3.14159265]\n",
            "sin(theta) =  [0.0000000e+00 1.0000000e+00 1.2246468e-16]\n",
            "cos(theta) =  [ 1.000000e+00  6.123234e-17 -1.000000e+00]\n",
            "tan(theta) =  [ 0.00000000e+00  1.63312394e+16 -1.22464680e-16]\n"
          ]
        }
      ]
    },
    {
      "cell_type": "code",
      "source": [
        "sum([3, 5, 2, 4])"
      ],
      "metadata": {
        "id": "_-EAi0zkhq1y",
        "colab": {
          "base_uri": "https://localhost:8080/"
        },
        "outputId": "35684d65-8da5-4757-b1d7-9038d30313e1"
      },
      "execution_count": null,
      "outputs": [
        {
          "output_type": "execute_result",
          "data": {
            "text/plain": [
              "14"
            ]
          },
          "metadata": {},
          "execution_count": 52
        }
      ]
    },
    {
      "cell_type": "code",
      "source": [
        "mean([4,5, 3])"
      ],
      "metadata": {
        "colab": {
          "base_uri": "https://localhost:8080/",
          "height": 161
        },
        "id": "T279Zxe2qFjz",
        "outputId": "545cd2c6-edeb-4316-bd58-cec8da078e94"
      },
      "execution_count": null,
      "outputs": [
        {
          "output_type": "error",
          "ename": "NameError",
          "evalue": "name 'mean' is not defined",
          "traceback": [
            "\u001b[0;31m---------------------------------------------------------------------------\u001b[0m",
            "\u001b[0;31mNameError\u001b[0m                                 Traceback (most recent call last)",
            "\u001b[0;32m<ipython-input-53-791873d5922d>\u001b[0m in \u001b[0;36m<cell line: 1>\u001b[0;34m()\u001b[0m\n\u001b[0;32m----> 1\u001b[0;31m \u001b[0mmean\u001b[0m\u001b[0;34m(\u001b[0m\u001b[0;34m[\u001b[0m\u001b[0;36m4\u001b[0m\u001b[0;34m,\u001b[0m\u001b[0;36m5\u001b[0m\u001b[0;34m,\u001b[0m \u001b[0;36m3\u001b[0m\u001b[0;34m]\u001b[0m\u001b[0;34m)\u001b[0m\u001b[0;34m\u001b[0m\u001b[0;34m\u001b[0m\u001b[0m\n\u001b[0m",
            "\u001b[0;31mNameError\u001b[0m: name 'mean' is not defined"
          ]
        }
      ]
    },
    {
      "cell_type": "code",
      "source": [
        "import numpy as np\n",
        "from vega_datasets import data\n",
        "\n",
        "rainfall_mm = np.array(\n",
        "    data.seattle_weather().set_index('date')['precipitation']['2015']\n",
        ")"
      ],
      "metadata": {
        "id": "K3Vy8OobqIR-"
      },
      "execution_count": null,
      "outputs": []
    },
    {
      "cell_type": "code",
      "source": [
        "len(rainfall_mm)"
      ],
      "metadata": {
        "id": "xV2Sp-giuGKX"
      },
      "execution_count": null,
      "outputs": []
    },
    {
      "cell_type": "code",
      "source": [
        "rainfall_mm"
      ],
      "metadata": {
        "id": "Y6TqcIe-uR28"
      },
      "execution_count": null,
      "outputs": []
    },
    {
      "cell_type": "code",
      "source": [
        "x = np.array([3, 5, 2])"
      ],
      "metadata": {
        "id": "fueu4K-luVo_"
      },
      "execution_count": null,
      "outputs": []
    },
    {
      "cell_type": "code",
      "source": [
        "x<3"
      ],
      "metadata": {
        "id": "FalsRmdmunGX"
      },
      "execution_count": null,
      "outputs": []
    },
    {
      "cell_type": "code",
      "source": [
        "np.sum(~( (rainfall_mm <= 10) | (rainfall_mm >= 20) ))"
      ],
      "metadata": {
        "id": "UGY9sTOrunpj"
      },
      "execution_count": null,
      "outputs": []
    },
    {
      "cell_type": "code",
      "source": [
        "print(\"Number days without rain: \", np.sum(rainfall_mm == 0))\n",
        "print(\"Number days with rain: \", np.sum(rainfall_mm != 0))\n",
        "print(\"Days with more than 10 mm: \", np.sum(rainfall_mm > 10))\n",
        "print(\"Rainy days with < 5 mm: \", np.sum((rainfall_mm > 0) &(rainfall_mm < 5)))"
      ],
      "metadata": {
        "id": "XfOES-Dcweew"
      },
      "execution_count": null,
      "outputs": []
    },
    {
      "cell_type": "code",
      "source": [
        "rainy = (rainfall_mm > 0)\n",
        "# construct a mask of all summer days (June 21st is the 172nd day)\n",
        "days = np.arange(365)\n",
        "summer = (days > 172) & (days < 262)\n",
        "print(\"Median precip on rainy days in 2015 (mm): \",\n",
        "np.median(rainfall_mm[rainy]))\n",
        "print(\"Median precip on summer days in 2015 (mm): \",\n",
        "np.median(rainfall_mm[summer]))\n",
        "print(\"Maximum precip on summer days in 2015 (mm): \",\n",
        "np.max(rainfall_mm[summer]))\n",
        "print(\"Median precip on non-summer rainy days (mm):\",\n",
        "np.median(rainfall_mm[rainy & ~summer]))"
      ],
      "metadata": {
        "id": "6EojSX5owmQK"
      },
      "execution_count": null,
      "outputs": []
    },
    {
      "cell_type": "code",
      "source": [
        "### fancy indexing\n"
      ],
      "metadata": {
        "id": "f0UVJNTqzx2h"
      },
      "execution_count": null,
      "outputs": []
    },
    {
      "cell_type": "code",
      "source": [
        "### bining data\n",
        "\n",
        "rng = np.random.default_rng(seed=1701)\n",
        "x = rng.normal(size=100)\n",
        "\n",
        "bins = np.linspace(-5, 5, 20)\n",
        "bins"
      ],
      "metadata": {
        "colab": {
          "base_uri": "https://localhost:8080/"
        },
        "id": "pRpIrStM9b7M",
        "outputId": "d0df46e2-5aaf-4271-d4ae-21070260e5dd"
      },
      "execution_count": null,
      "outputs": [
        {
          "output_type": "execute_result",
          "data": {
            "text/plain": [
              "array([-5.        , -4.47368421, -3.94736842, -3.42105263, -2.89473684,\n",
              "       -2.36842105, -1.84210526, -1.31578947, -0.78947368, -0.26315789,\n",
              "        0.26315789,  0.78947368,  1.31578947,  1.84210526,  2.36842105,\n",
              "        2.89473684,  3.42105263,  3.94736842,  4.47368421,  5.        ])"
            ]
          },
          "metadata": {},
          "execution_count": 57
        }
      ]
    },
    {
      "cell_type": "code",
      "source": [
        "counts = np.zeros_like(bins)"
      ],
      "metadata": {
        "id": "XbCEx9wb94Wm"
      },
      "execution_count": null,
      "outputs": []
    },
    {
      "cell_type": "code",
      "source": [
        "counts"
      ],
      "metadata": {
        "colab": {
          "base_uri": "https://localhost:8080/"
        },
        "id": "nbHFvbcs9_bt",
        "outputId": "a25d32cc-f47b-4720-f5d2-5a5dcee33067"
      },
      "execution_count": null,
      "outputs": [
        {
          "output_type": "execute_result",
          "data": {
            "text/plain": [
              "array([0., 0., 0., 0., 0., 0., 0., 0., 0., 0., 0., 0., 0., 0., 0., 0., 0.,\n",
              "       0., 0., 0.])"
            ]
          },
          "metadata": {},
          "execution_count": 61
        }
      ]
    },
    {
      "cell_type": "code",
      "source": [
        "i = np.searchsorted(bins, x)"
      ],
      "metadata": {
        "id": "OT34GWpU-nB4"
      },
      "execution_count": null,
      "outputs": []
    },
    {
      "cell_type": "code",
      "source": [
        "i"
      ],
      "metadata": {
        "colab": {
          "base_uri": "https://localhost:8080/"
        },
        "id": "fj-x7Ngv-4hT",
        "outputId": "ec149833-c748-403e-f611-70c8de10b17d"
      },
      "execution_count": null,
      "outputs": [
        {
          "output_type": "execute_result",
          "data": {
            "text/plain": [
              "array([11, 11, 11,  8, 11,  7, 13,  8, 12,  8, 11, 10, 11,  9, 13,  9,  9,\n",
              "        7, 11, 11, 13, 11,  8,  8, 11, 10, 13, 12, 10, 11,  7, 15, 10,  7,\n",
              "       14,  8,  9, 11, 11,  9, 10, 13, 10,  7, 13, 11, 11, 13, 11, 11,  9,\n",
              "        8, 12,  9,  8, 10, 11,  8, 11,  6,  8, 11,  8,  8, 11, 12, 11,  9,\n",
              "       16, 11, 11, 10, 11, 11, 13, 10,  7,  8, 11, 11,  7,  9,  9, 11, 12,\n",
              "        9, 11, 12, 14,  9, 11, 12, 10,  8, 10, 10,  9, 11,  8, 15])"
            ]
          },
          "metadata": {},
          "execution_count": 63
        }
      ]
    },
    {
      "cell_type": "code",
      "source": [
        "np.add.at(counts, i, 1)"
      ],
      "metadata": {
        "id": "0cMuKeom-9qB"
      },
      "execution_count": null,
      "outputs": []
    },
    {
      "cell_type": "code",
      "source": [
        "counts"
      ],
      "metadata": {
        "colab": {
          "base_uri": "https://localhost:8080/"
        },
        "id": "W52Rcvh2_BJ0",
        "outputId": "9776263c-f207-4e79-f2f7-35747bd33ecc"
      },
      "execution_count": null,
      "outputs": [
        {
          "output_type": "execute_result",
          "data": {
            "text/plain": [
              "array([ 0.,  0.,  0.,  0.,  0.,  0.,  1.,  7., 15., 13., 12., 32.,  7.,\n",
              "        8.,  2.,  2.,  1.,  0.,  0.,  0.])"
            ]
          },
          "metadata": {},
          "execution_count": 67
        }
      ]
    },
    {
      "cell_type": "code",
      "source": [
        "import matplotlib.pyplot as plt\n",
        "\n",
        "\n",
        "plt.plot(bins, counts, linestyle='-');"
      ],
      "metadata": {
        "colab": {
          "base_uri": "https://localhost:8080/",
          "height": 450
        },
        "id": "WgWTZ96l_CSR",
        "outputId": "335e7bb9-f4f5-4b37-fc0b-0aa30564289b"
      },
      "execution_count": null,
      "outputs": [
        {
          "output_type": "display_data",
          "data": {
            "text/plain": [
              "<Figure size 640x480 with 1 Axes>"
            ],
            "image/png": "[encoded data removed]"
          },
          "metadata": {}
        }
      ]
    },
    {
      "cell_type": "code",
      "source": [
        "plt.hist(x, bins)"
      ],
      "metadata": {
        "colab": {
          "base_uri": "https://localhost:8080/",
          "height": 572
        },
        "id": "GPPW13qaAwhw",
        "outputId": "483c762f-e258-4fb6-e27f-927f1da9247b"
      },
      "execution_count": null,
      "outputs": [
        {
          "output_type": "execute_result",
          "data": {
            "text/plain": [
              "(array([ 0.,  0.,  0.,  0.,  0.,  1.,  7., 15., 13., 12., 32.,  7.,  8.,\n",
              "         2.,  2.,  1.,  0.,  0.,  0.]),\n",
              " array([-5.        , -4.47368421, -3.94736842, -3.42105263, -2.89473684,\n",
              "        -2.36842105, -1.84210526, -1.31578947, -0.78947368, -0.26315789,\n",
              "         0.26315789,  0.78947368,  1.31578947,  1.84210526,  2.36842105,\n",
              "         2.89473684,  3.42105263,  3.94736842,  4.47368421,  5.        ]),\n",
              " <BarContainer object of 19 artists>)"
            ]
          },
          "metadata": {},
          "execution_count": 70
        },
        {
          "output_type": "display_data",
          "data": {
            "text/plain": [
              "<Figure size 640x480 with 1 Axes>"
            ],
            "image/png": "[encoded data removed]"
          },
          "metadata": {}
        }
      ]
    },
    {
      "cell_type": "code",
      "source": [
        "L = [3, 1, 4, 1, 5, 9, 2, 6]\n",
        "sorted(L) # returns a sorted copy"
      ],
      "metadata": {
        "colab": {
          "base_uri": "https://localhost:8080/"
        },
        "id": "n9IoXVwEBBxw",
        "outputId": "c3a6d972-5e86-46e6-d2e8-9b0bdc6fd870"
      },
      "execution_count": null,
      "outputs": [
        {
          "output_type": "execute_result",
          "data": {
            "text/plain": [
              "[1, 1, 2, 3, 4, 5, 6, 9]"
            ]
          },
          "metadata": {},
          "execution_count": 71
        }
      ]
    },
    {
      "cell_type": "code",
      "source": [
        "import numpy as np"
      ],
      "metadata": {
        "id": "oi01Xd4aEIEC"
      },
      "execution_count": null,
      "outputs": []
    },
    {
      "cell_type": "code",
      "source": [
        " name = ['Alice', 'Bob', 'Cathy', 'Doug']\n",
        " age = [25, 45, 37, 19]\n",
        " weight = [55.0, 85.5, 68.0, 61.5]"
      ],
      "metadata": {
        "id": "8BVgbr2jEI2z"
      },
      "execution_count": null,
      "outputs": []
    },
    {
      "cell_type": "code",
      "source": [
        "x = np.zeros(4, dtype={'names':('name','age', 'weight'),'formats':('U10', 'i4', 'f8')})"
      ],
      "metadata": {
        "id": "2Phu4XTwS_-8"
      },
      "execution_count": null,
      "outputs": []
    },
    {
      "cell_type": "code",
      "source": [
        "print(x.dtype)"
      ],
      "metadata": {
        "colab": {
          "base_uri": "https://localhost:8080/"
        },
        "id": "1QuE3qdMTeYn",
        "outputId": "a72668e8-c6bf-4156-83a7-a1c08db0bde9"
      },
      "execution_count": null,
      "outputs": [
        {
          "output_type": "stream",
          "name": "stdout",
          "text": [
            "[('name', '<U10'), ('age', '<i4'), ('weight', '<f8')]\n"
          ]
        }
      ]
    },
    {
      "cell_type": "code",
      "source": [
        "x[\"name\"] = name\n",
        "x[\"age\"] = age\n",
        "x[\"weight\"] = weight"
      ],
      "metadata": {
        "id": "H7pebVwYTio3"
      },
      "execution_count": null,
      "outputs": []
    },
    {
      "cell_type": "code",
      "source": [
        "x[\"name\"]"
      ],
      "metadata": {
        "colab": {
          "base_uri": "https://localhost:8080/"
        },
        "id": "M4I0dmMjXz3S",
        "outputId": "8c981faf-da2f-4e88-ef6d-824aa0b38b50"
      },
      "execution_count": null,
      "outputs": [
        {
          "output_type": "execute_result",
          "data": {
            "text/plain": [
              "array(['Alice', 'Bob', 'Cathy', 'Doug'], dtype='<U10')"
            ]
          },
          "metadata": {},
          "execution_count": 80
        }
      ]
    },
    {
      "cell_type": "code",
      "source": [
        "x.name"
      ],
      "metadata": {
        "colab": {
          "base_uri": "https://localhost:8080/",
          "height": 161
        },
        "id": "fkO92VhHX0m_",
        "outputId": "924e4d7b-e03f-43d6-c33e-2284514f4022"
      },
      "execution_count": null,
      "outputs": [
        {
          "output_type": "error",
          "ename": "AttributeError",
          "evalue": "'numpy.ndarray' object has no attribute 'name'",
          "traceback": [
            "\u001b[0;31m---------------------------------------------------------------------------\u001b[0m",
            "\u001b[0;31mAttributeError\u001b[0m                            Traceback (most recent call last)",
            "\u001b[0;32m<ipython-input-81-7a8bb287c399>\u001b[0m in \u001b[0;36m<cell line: 1>\u001b[0;34m()\u001b[0m\n\u001b[0;32m----> 1\u001b[0;31m \u001b[0mx\u001b[0m\u001b[0;34m.\u001b[0m\u001b[0mname\u001b[0m\u001b[0;34m\u001b[0m\u001b[0;34m\u001b[0m\u001b[0m\n\u001b[0m",
            "\u001b[0;31mAttributeError\u001b[0m: 'numpy.ndarray' object has no attribute 'name'"
          ]
        }
      ]
    },
    {
      "cell_type": "code",
      "source": [
        "data_rec = x.view(np.recarray)"
      ],
      "metadata": {
        "id": "dh7DDisle3a3"
      },
      "execution_count": null,
      "outputs": []
    },
    {
      "cell_type": "code",
      "source": [
        "data_rec"
      ],
      "metadata": {
        "colab": {
          "base_uri": "https://localhost:8080/"
        },
        "id": "mtqZiJipe9A1",
        "outputId": "66848b99-768e-47be-b884-b153b27c4c1d"
      },
      "execution_count": null,
      "outputs": [
        {
          "output_type": "execute_result",
          "data": {
            "text/plain": [
              "rec.array([('Alice', 25, 55. ), ('Bob', 45, 85.5), ('Cathy', 37, 68. ),\n",
              "           ('Doug', 19, 61.5)],\n",
              "          dtype=[('name', '<U10'), ('age', '<i4'), ('weight', '<f8')])"
            ]
          },
          "metadata": {},
          "execution_count": 85
        }
      ]
    },
    {
      "cell_type": "code",
      "source": [
        "data_rec.name"
      ],
      "metadata": {
        "colab": {
          "base_uri": "https://localhost:8080/"
        },
        "id": "rEd_W5kJfFt1",
        "outputId": "943e2263-dd8e-4ec5-9976-6d1af9f83e2f"
      },
      "execution_count": null,
      "outputs": [
        {
          "output_type": "execute_result",
          "data": {
            "text/plain": [
              "array(['Alice', 'Bob', 'Cathy', 'Doug'], dtype='<U10')"
            ]
          },
          "metadata": {},
          "execution_count": 88
        }
      ]
    },
    {
      "cell_type": "code",
      "source": [],
      "metadata": {
        "id": "xKus3f_UfyP6"
      },
      "execution_count": null,
      "outputs": []
    }
  ]
}